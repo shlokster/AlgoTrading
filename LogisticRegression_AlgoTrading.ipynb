{
  "nbformat": 4,
  "nbformat_minor": 0,
  "metadata": {
    "colab": {
      "name": "LogisticRegression_AlgoTrading.ipynb",
      "provenance": [],
      "collapsed_sections": [],
      "authorship_tag": "ABX9TyNhX7qr0wLMwldT5ius3FXg",
      "include_colab_link": true
    },
    "kernelspec": {
      "name": "python3",
      "display_name": "Python 3"
    },
    "language_info": {
      "name": "python"
    }
  },
  "cells": [
    {
      "cell_type": "markdown",
      "metadata": {
        "id": "view-in-github",
        "colab_type": "text"
      },
      "source": [
        "<a href=\"https://colab.research.google.com/github/shlokster/AlgoTrading/blob/main/LogisticRegression_AlgoTrading.ipynb\" target=\"_parent\"><img src=\"https://colab.research.google.com/assets/colab-badge.svg\" alt=\"Open In Colab\"/></a>"
      ]
    },
    {
      "cell_type": "markdown",
      "source": [
        "When you are running it for the first time uncomment the dependencies and execute. Once they are downloaded you wont need to download it again so you can comment it again.\n",
        "\n",
        "Note: The installation can take 3 minutes or so depending on your system."
      ],
      "metadata": {
        "id": "PSu2pPH_7pRy"
      }
    },
    {
      "cell_type": "code",
      "execution_count": 20,
      "metadata": {
        "id": "va-L29_Nr_M5"
      },
      "outputs": [],
      "source": [
        "import numpy as np\n",
        "import pandas as pd\n",
        "# !wget http://prdownloads.sourceforge.net/ta-lib/ta-lib-0.4.0-src.tar.gz\n",
        "# !tar -xzvf ta-lib-0.4.0-src.tar.gz\n",
        "# %cd ta-lib\n",
        "# !./configure --prefix=/usr\n",
        "# !make\n",
        "# !make install\n",
        "# !pip install Ta-Lib\n",
        "import talib as ta\n",
        "\n",
        "import matplotlib.pyplot as plt\n",
        "\n",
        "from sklearn.linear_model import LogisticRegression\n",
        "from sklearn import metrics\n",
        "from sklearn.model_selection import cross_val_score\n",
        "\n",
        "from pandas_datareader import data as pdr\n",
        "# !pip3 install yfinance\n",
        "import yfinance as yf\n"
      ]
    },
    {
      "cell_type": "code",
      "source": [
        "yf.pdr_override()\n",
        "\n",
        "df = pdr.get_data_yahoo('^NSEI', '2000-01-01', '2018-01-01')\n",
        "df = df.dropna()\n",
        "df = df.iloc[:,:4]\n",
        "df.head()"
      ],
      "metadata": {
        "colab": {
          "base_uri": "https://localhost:8080/",
          "height": 255
        },
        "id": "AD6KzKCVsFK3",
        "outputId": "cbe3a310-337a-45b5-b1b8-0e42bad6c70c"
      },
      "execution_count": 99,
      "outputs": [
        {
          "output_type": "stream",
          "name": "stdout",
          "text": [
            "\r[*********************100%***********************]  1 of 1 completed\n"
          ]
        },
        {
          "output_type": "execute_result",
          "data": {
            "text/html": [
              "\n",
              "  <div id=\"df-d996f60d-67d3-4104-a942-548419bd9769\">\n",
              "    <div class=\"colab-df-container\">\n",
              "      <div>\n",
              "<style scoped>\n",
              "    .dataframe tbody tr th:only-of-type {\n",
              "        vertical-align: middle;\n",
              "    }\n",
              "\n",
              "    .dataframe tbody tr th {\n",
              "        vertical-align: top;\n",
              "    }\n",
              "\n",
              "    .dataframe thead th {\n",
              "        text-align: right;\n",
              "    }\n",
              "</style>\n",
              "<table border=\"1\" class=\"dataframe\">\n",
              "  <thead>\n",
              "    <tr style=\"text-align: right;\">\n",
              "      <th></th>\n",
              "      <th>Open</th>\n",
              "      <th>High</th>\n",
              "      <th>Low</th>\n",
              "      <th>Close</th>\n",
              "    </tr>\n",
              "    <tr>\n",
              "      <th>Date</th>\n",
              "      <th></th>\n",
              "      <th></th>\n",
              "      <th></th>\n",
              "      <th></th>\n",
              "    </tr>\n",
              "  </thead>\n",
              "  <tbody>\n",
              "    <tr>\n",
              "      <th>2007-09-17</th>\n",
              "      <td>4518.450195</td>\n",
              "      <td>4549.049805</td>\n",
              "      <td>4482.850098</td>\n",
              "      <td>4494.649902</td>\n",
              "    </tr>\n",
              "    <tr>\n",
              "      <th>2007-09-18</th>\n",
              "      <td>4494.100098</td>\n",
              "      <td>4551.799805</td>\n",
              "      <td>4481.549805</td>\n",
              "      <td>4546.200195</td>\n",
              "    </tr>\n",
              "    <tr>\n",
              "      <th>2007-09-19</th>\n",
              "      <td>4550.250000</td>\n",
              "      <td>4739.000000</td>\n",
              "      <td>4550.250000</td>\n",
              "      <td>4732.350098</td>\n",
              "    </tr>\n",
              "    <tr>\n",
              "      <th>2007-09-20</th>\n",
              "      <td>4734.850098</td>\n",
              "      <td>4760.850098</td>\n",
              "      <td>4721.149902</td>\n",
              "      <td>4747.549805</td>\n",
              "    </tr>\n",
              "    <tr>\n",
              "      <th>2007-09-21</th>\n",
              "      <td>4752.950195</td>\n",
              "      <td>4855.700195</td>\n",
              "      <td>4733.700195</td>\n",
              "      <td>4837.549805</td>\n",
              "    </tr>\n",
              "  </tbody>\n",
              "</table>\n",
              "</div>\n",
              "      <button class=\"colab-df-convert\" onclick=\"convertToInteractive('df-d996f60d-67d3-4104-a942-548419bd9769')\"\n",
              "              title=\"Convert this dataframe to an interactive table.\"\n",
              "              style=\"display:none;\">\n",
              "        \n",
              "  <svg xmlns=\"http://www.w3.org/2000/svg\" height=\"24px\"viewBox=\"0 0 24 24\"\n",
              "       width=\"24px\">\n",
              "    <path d=\"M0 0h24v24H0V0z\" fill=\"none\"/>\n",
              "    <path d=\"M18.56 5.44l.94 2.06.94-2.06 2.06-.94-2.06-.94-.94-2.06-.94 2.06-2.06.94zm-11 1L8.5 8.5l.94-2.06 2.06-.94-2.06-.94L8.5 2.5l-.94 2.06-2.06.94zm10 10l.94 2.06.94-2.06 2.06-.94-2.06-.94-.94-2.06-.94 2.06-2.06.94z\"/><path d=\"M17.41 7.96l-1.37-1.37c-.4-.4-.92-.59-1.43-.59-.52 0-1.04.2-1.43.59L10.3 9.45l-7.72 7.72c-.78.78-.78 2.05 0 2.83L4 21.41c.39.39.9.59 1.41.59.51 0 1.02-.2 1.41-.59l7.78-7.78 2.81-2.81c.8-.78.8-2.07 0-2.86zM5.41 20L4 18.59l7.72-7.72 1.47 1.35L5.41 20z\"/>\n",
              "  </svg>\n",
              "      </button>\n",
              "      \n",
              "  <style>\n",
              "    .colab-df-container {\n",
              "      display:flex;\n",
              "      flex-wrap:wrap;\n",
              "      gap: 12px;\n",
              "    }\n",
              "\n",
              "    .colab-df-convert {\n",
              "      background-color: #E8F0FE;\n",
              "      border: none;\n",
              "      border-radius: 50%;\n",
              "      cursor: pointer;\n",
              "      display: none;\n",
              "      fill: #1967D2;\n",
              "      height: 32px;\n",
              "      padding: 0 0 0 0;\n",
              "      width: 32px;\n",
              "    }\n",
              "\n",
              "    .colab-df-convert:hover {\n",
              "      background-color: #E2EBFA;\n",
              "      box-shadow: 0px 1px 2px rgba(60, 64, 67, 0.3), 0px 1px 3px 1px rgba(60, 64, 67, 0.15);\n",
              "      fill: #174EA6;\n",
              "    }\n",
              "\n",
              "    [theme=dark] .colab-df-convert {\n",
              "      background-color: #3B4455;\n",
              "      fill: #D2E3FC;\n",
              "    }\n",
              "\n",
              "    [theme=dark] .colab-df-convert:hover {\n",
              "      background-color: #434B5C;\n",
              "      box-shadow: 0px 1px 3px 1px rgba(0, 0, 0, 0.15);\n",
              "      filter: drop-shadow(0px 1px 2px rgba(0, 0, 0, 0.3));\n",
              "      fill: #FFFFFF;\n",
              "    }\n",
              "  </style>\n",
              "\n",
              "      <script>\n",
              "        const buttonEl =\n",
              "          document.querySelector('#df-d996f60d-67d3-4104-a942-548419bd9769 button.colab-df-convert');\n",
              "        buttonEl.style.display =\n",
              "          google.colab.kernel.accessAllowed ? 'block' : 'none';\n",
              "\n",
              "        async function convertToInteractive(key) {\n",
              "          const element = document.querySelector('#df-d996f60d-67d3-4104-a942-548419bd9769');\n",
              "          const dataTable =\n",
              "            await google.colab.kernel.invokeFunction('convertToInteractive',\n",
              "                                                     [key], {});\n",
              "          if (!dataTable) return;\n",
              "\n",
              "          const docLinkHtml = 'Like what you see? Visit the ' +\n",
              "            '<a target=\"_blank\" href=https://colab.research.google.com/notebooks/data_table.ipynb>data table notebook</a>'\n",
              "            + ' to learn more about interactive tables.';\n",
              "          element.innerHTML = '';\n",
              "          dataTable['output_type'] = 'display_data';\n",
              "          await google.colab.output.renderOutput(dataTable, element);\n",
              "          const docLink = document.createElement('div');\n",
              "          docLink.innerHTML = docLinkHtml;\n",
              "          element.appendChild(docLink);\n",
              "        }\n",
              "      </script>\n",
              "    </div>\n",
              "  </div>\n",
              "  "
            ],
            "text/plain": [
              "                   Open         High          Low        Close\n",
              "Date                                                          \n",
              "2007-09-17  4518.450195  4549.049805  4482.850098  4494.649902\n",
              "2007-09-18  4494.100098  4551.799805  4481.549805  4546.200195\n",
              "2007-09-19  4550.250000  4739.000000  4550.250000  4732.350098\n",
              "2007-09-20  4734.850098  4760.850098  4721.149902  4747.549805\n",
              "2007-09-21  4752.950195  4855.700195  4733.700195  4837.549805"
            ]
          },
          "metadata": {},
          "execution_count": 99
        }
      ]
    },
    {
      "cell_type": "code",
      "source": [
        "df['S_10'] = df['Close'].rolling(window=10).mean()\n",
        "df['Corr'] = df['Close'].rolling(window=10).corr(df['S_10'])\n",
        "df['RSI'] = ta.RSI(np.array(df['Close']), timeperiod =10)\n",
        "df['Open-Close'] = df['Open'] - df['Close'].shift(1)\n",
        "df['Open-Open'] = df['Open'] - df['Open'].shift(1)\n",
        "df = df.dropna()\n",
        "X = df.iloc[:,:9]\n",
        "\n",
        "\n",
        "y = np.where(df['Close'].shift(-1) > df['Close'],1,-1)\n",
        "\n",
        "split = int(0.7*len(df))\n",
        "X_train, X_test, y_train, y_test = X[:split], X[split:], y[:split], y[split:]\n",
        "\n",
        "model = LogisticRegression()\n",
        "model = model.fit (X_train,y_train)\n",
        "\n",
        "pd.DataFrame(zip(X.columns, np.transpose(model.coef_)))\n",
        "\n",
        "probability = model.predict_proba(X_test)\n",
        "\n",
        "predicted = model.predict(X_test)\n",
        "# print(metrics.classification_report(y_test, predicted))\n",
        "\n",
        "print(model.score(X_test,y_test))\n",
        "\n",
        "cross_val = cross_val_score(LogisticRegression(), X, y, scoring='accuracy', cv=10)\n",
        "# print(cross_val)\n",
        "# print(cross_val.mean())\n"
      ],
      "metadata": {
        "colab": {
          "base_uri": "https://localhost:8080/"
        },
        "id": "0r3_z9fzu3eZ",
        "outputId": "7d2dfba1-edc3-461b-e247-4f381aa06abd"
      },
      "execution_count": 100,
      "outputs": [
        {
          "output_type": "stream",
          "name": "stdout",
          "text": [
            "0.5266666666666666\n"
          ]
        }
      ]
    },
    {
      "cell_type": "code",
      "source": [
        ""
      ],
      "metadata": {
        "id": "V2ye1a3I1tgH"
      },
      "execution_count": 101,
      "outputs": []
    },
    {
      "cell_type": "code",
      "source": [
        "df['Predicted_Signal'] = model.predict(X)\n",
        "df['Nifty_returns'] = np.log(df['Close']/df['Close'].shift(1))\n",
        "Cumulative_Nifty_returns = np.cumsum(df[split:]['Nifty_returns'])\n",
        "\n",
        "df['Startegy_returns'] = df['Nifty_returns']* df['Predicted_Signal'].shift(1)\n",
        "Cumulative_Strategy_returns = np.cumsum(df[split:]['Startegy_returns'])\n",
        "\n",
        "plt.figure(figsize=(10,5))\n",
        "plt.plot(Cumulative_Nifty_returns, color='r',label = 'Nifty Returns')\n",
        "plt.plot(Cumulative_Strategy_returns, color='g', label = 'Strategy Returns')\n",
        "plt.legend()\n",
        "plt.show()\n"
      ],
      "metadata": {
        "colab": {
          "base_uri": "https://localhost:8080/",
          "height": 321
        },
        "id": "zmOchny9u888",
        "outputId": "3a0e9658-9ad7-41e5-c793-335bb7fb7fc8"
      },
      "execution_count": 101,
      "outputs": [
        {
          "output_type": "display_data",
          "data": {
            "image/png": "[encoded data removed]",
            "text/plain": [
              "<Figure size 720x360 with 1 Axes>"
            ]
          },
          "metadata": {
            "needs_background": "light"
          }
        }
      ]
    },
    {
      "cell_type": "markdown",
      "source": [
        "Trying to Improve accuracy and making it fit different datasets here"
      ],
      "metadata": {
        "id": "qj4oENbE8Smh"
      }
    },
    {
      "cell_type": "code",
      "source": [
        "\n",
        "close = df['Close'].values\n",
        "\n",
        "def split_sequences(sequence, n_steps):\n",
        "    X, y = list(), list()\n",
        "    for i in range(len(sequence)):\n",
        "        end_ix = i + n_steps\n",
        "        if end_ix > len(sequence)-1:\n",
        "            break\n",
        "        seq_x, seq_y = sequence[i:end_ix], sequence[end_ix]\n",
        "        X.append(seq_x)\n",
        "        y.append(seq_y)\n",
        "    return np.array(X), np.array(y)\n",
        "\n",
        "X,y = split_sequences(close,10)\n",
        "new_y = []\n",
        "for i in range(1,len(y)):\n",
        "    if y[i] > y[i-1]:\n",
        "        new_y.append(0)\n",
        "    elif y[i] < y[i-1]:\n",
        "        new_y.append(1)\n",
        "    else:\n",
        "        new_y.append(0)\n",
        "        \n",
        "X = np.array(X)[1:]\n",
        "y = np.array(new_y)\n",
        "for i in range(len(X)):\n",
        "    X[i] = np.array(X[i])\n",
        "\n",
        "from keras.models import Sequential\n",
        "from keras import callbacks\n",
        "from keras.layers import Dense, BatchNormalization,Reshape,Dropout\n",
        "from keras.models import Sequential, load_model, model_from_json\n",
        "\n",
        "# import os\n",
        "# h5 = 'binary' + '_best_model' + '.h5'\n",
        "# checkpoint = callbacks.ModelCheckpoint(h5,\n",
        "#                                         monitor='val_loss',\n",
        "#                                         verbose=0,\n",
        "#                                         save_best_only=True,\n",
        "#                                         save_weights_only=True,\n",
        "#                                         mode='auto',\n",
        "#                                         period=1)\n",
        "# callback = [checkpoint]\n",
        "# json = 'binary' + '_best_model' + '.json'\n",
        "# model_json = model.to_json()\n",
        "# with open(json, \"w\") as json_file:\n",
        "#     json_file.write(model_json)\n",
        "# model.fit(X,y,epochs = 1000,verbose = 2,validation_split = 0.2,callbacks = [callback])\n",
        "\n",
        "def estimate_profits(pred,y):\n",
        "    profits = 0\n",
        "    investment = 100\n",
        "    log = []\n",
        "    for i in range(len(y)-1):\n",
        "        if round(pred[i][0]) == 1:\n",
        "            trade = 'buy'\n",
        "        elif round(pred[i][0]) == 0:\n",
        "            trade = 'sell'\n",
        "        else:\n",
        "            trade = None\n",
        "        if y[i+1] == 1:\n",
        "            correct_trade = 'buy'\n",
        "        elif y[i+1] == 0:\n",
        "            correct_trade = 'sell'\n",
        "        else:\n",
        "            correct_trade = None\n",
        "        if correct_trade:\n",
        "            if trade == correct_trade:\n",
        "                profits += 0.8*investment\n",
        "                log.append(1)\n",
        "            else:\n",
        "                profits -= investment\n",
        "                log.append(0)\n",
        "    accuracy = round(log.count(1)/len(log)*100)\n",
        "    return profits,accuracy\n",
        "\n",
        "model = Sequential()\n",
        "model.add(Dense(100,input_shape = (None,10)))\n",
        "model.add(Dense(1024,activation = 'relu'))\n",
        "model.add(Dense(1024,activation = 'relu'))\n",
        "model.add(Dense(1024,activation = 'relu'))\n",
        "model.add(Dense(1,activation = 'sigmoid'))\n",
        "model.compile(optimizer = 'adam',loss = 'binary_crossentropy',metrics = 'accuracy')\n",
        "\n",
        "\n",
        "# model = Sequential()\n",
        "# model.add(TimeDistributed(Conv1D(filters=128, kernel_size=1, activation='relu'), input_shape=(None, n_steps, n_features)))\n",
        "# model.add(TimeDistributed(MaxPooling1D(pool_size=2, strides=None)))\n",
        "# model.add(TimeDistributed(Conv1D(filters=128, kernel_size=1, activation='relu')))\n",
        "# model.add(TimeDistributed(MaxPooling1D(pool_size=2, strides=None)))\n",
        "# model.add(TimeDistributed(Conv1D(filters=128, kernel_size=1, activation='relu')))\n",
        "# model.add(TimeDistributed(MaxPooling1D(pool_size=2, strides=None)))\n",
        "# model.add(TimeDistributed(Conv1D(filters=128, kernel_size=1, activation='relu')))\n",
        "# model.add(TimeDistributed(Flatten()))\n",
        "# model.add(LSTM(128,return_sequences = True))\n",
        "# model.add(LSTM(64))\n",
        "# model.add(BatchNormalization())\n",
        "# model.add(Dense(1,activation = 'sigmoid'))\n",
        "# model.compile(optimizer=optimizer, loss='mse')\n",
        "\n",
        "def normalize_data(dataset):\n",
        "        cols = dataset.columns.tolist()\n",
        "        col_name = [0]*len(cols)\n",
        "        for i in range(len(cols)):\n",
        "            col_name[i] = i\n",
        "        dataset.columns = col_name\n",
        "        dtypes = dataset.dtypes.tolist()\n",
        "        minmax = list()\n",
        "        for column in dataset:\n",
        "            dataset = dataset.astype({column: 'float32'})\n",
        "        for i in range(len(cols)):\n",
        "            col_values = dataset[col_name[i]]\n",
        "            value_min = min(col_values)\n",
        "            value_max = max(col_values)\n",
        "            minmax.append([value_min, value_max])\n",
        "        for column in dataset:\n",
        "            values = dataset[column].values\n",
        "            for i in range(len(values)):\n",
        "                values[i] = (values[i] - minmax[column][0]) / (minmax[column][1] - minmax[column][0])\n",
        "            dataset[column] = values\n",
        "        dataset[column] = values\n",
        "        return dataset,minmax\n",
        "\n",
        "# normalize_data(df)"
      ],
      "metadata": {
        "id": "al11yVGK8YCj"
      },
      "execution_count": 102,
      "outputs": []
    }
  ]
}